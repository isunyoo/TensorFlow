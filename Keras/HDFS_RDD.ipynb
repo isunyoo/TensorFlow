{
 "cells": [
  {
   "cell_type": "code",
   "execution_count": 1,
   "metadata": {},
   "outputs": [],
   "source": [
    "from pyspark.conf import SparkConf\n",
    "from pyspark.context import SparkContext\n",
    "from pyspark.sql import HiveContext"
   ]
  },
  {
   "cell_type": "code",
   "execution_count": 2,
   "metadata": {},
   "outputs": [],
   "source": [
    "# CONTAINER ID        IMAGE                             COMMAND                  CREATED             STATUS                     PORTS                                                      NAMES\n",
    "# 97745cfb4450        docker.io/cloudera/quickstart     \"/usr/bin/docker-q...\"   10 minutes ago      Up About a minute          0.0.0.0:32778->7180/tcp, 0.0.0.0:32777->8989/tcp           hadoopondocker\n",
    "# hdfs dfs -ls /user/mydata\n",
    "# -rw-r--r--   1 root supergroup       8767 2019-07-02 11:46 /user/mydata/baseball.csv\n",
    "# \"hdfs://172.19.0.4/user/mydata/baseball.csv\""
   ]
  },
  {
   "cell_type": "code",
   "execution_count": 3,
   "metadata": {},
   "outputs": [
    {
     "name": "stdout",
     "output_type": "stream",
     "text": [
      "id,player,year,stint,team,lg,g,ab,r,h,X2b,X3b,hr,rbi,sb,cs,bb,so,ibb,hbp,sh,sf,gidp\n"
     ]
    }
   ],
   "source": [
    "sc= SparkContext('local','example')\n",
    "hc = HiveContext(sc)\n",
    "tf1 = sc.textFile(\"hdfs://172.19.0.4/user/mydata/baseball.csv\")\n",
    "print(tf1.first())"
   ]
  },
  {
   "cell_type": "code",
   "execution_count": 10,
   "metadata": {},
   "outputs": [
    {
     "name": "stdout",
     "output_type": "stream",
     "text": [
      "101\n"
     ]
    }
   ],
   "source": [
    "print(tf1.count())"
   ]
  },
  {
   "cell_type": "code",
   "execution_count": 14,
   "metadata": {},
   "outputs": [
    {
     "name": "stdout",
     "output_type": "stream",
     "text": [
      "['88641,womacto01,2006,2,CHN,NL,19,50,6,14,1,0,1,2.0,1.0,1.0,4,4.0,0.0,0.0,3.0,0.0,0.0', '88643,schilcu01,2006,1,BOS,AL,31,2,0,1,0,0,0,0.0,0.0,0.0,0,1.0,0.0,0.0,0.0,0.0,0.0']\n"
     ]
    }
   ],
   "source": [
    "#Spark select top values in RDD\n",
    "print(tf1.top(2, key=lambda x: x[2]))"
   ]
  },
  {
   "cell_type": "code",
   "execution_count": null,
   "metadata": {},
   "outputs": [],
   "source": []
  }
 ],
 "metadata": {
  "kernelspec": {
   "display_name": "Python 3",
   "language": "python",
   "name": "python3"
  },
  "language_info": {
   "codemirror_mode": {
    "name": "ipython",
    "version": 3
   },
   "file_extension": ".py",
   "mimetype": "text/x-python",
   "name": "python",
   "nbconvert_exporter": "python",
   "pygments_lexer": "ipython3",
   "version": "3.7.3"
  }
 },
 "nbformat": 4,
 "nbformat_minor": 2
}
